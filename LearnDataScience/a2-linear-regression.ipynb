{
 "metadata": {
  "name": "",
  "signature": "sha256:47370e23b705c4a8b9247bce33f89d021d23b36074ac4fc070c09c7f69f707f3"
 },
 "nbformat": 3,
 "nbformat_minor": 0,
 "worksheets": [
  {
   "cells": [
    {
     "cell_type": "markdown",
     "metadata": {},
     "source": [
      "## Example of cleaning up data in Pandas"
     ]
    },
    {
     "cell_type": "markdown",
     "metadata": {},
     "source": [
      "#### First import ipython settings"
     ]
    },
    {
     "cell_type": "code",
     "collapsed": false,
     "input": [
      "import pandas as pd\n",
      "import matplotlib.pyplot as plt\n",
      "%matplotlib inline"
     ],
     "language": "python",
     "metadata": {},
     "outputs": [],
     "prompt_number": 1
    },
    {
     "cell_type": "markdown",
     "metadata": {},
     "source": [
      "#### Import the data to be cleaned and inspect them"
     ]
    },
    {
     "cell_type": "code",
     "collapsed": false,
     "input": [
      "df = pd.read_csv('https://cdn.rawgit.com/benedict-chan/pytest/master/datasets/loansData.csv')"
     ],
     "language": "python",
     "metadata": {},
     "outputs": [],
     "prompt_number": 16
    },
    {
     "cell_type": "code",
     "collapsed": false,
     "input": [
      "df.head()"
     ],
     "language": "python",
     "metadata": {},
     "outputs": [
      {
       "html": [
        "<div style=\"max-height:1000px;max-width:1500px;overflow:auto;\">\n",
        "<table border=\"1\" class=\"dataframe\">\n",
        "  <thead>\n",
        "    <tr style=\"text-align: right;\">\n",
        "      <th></th>\n",
        "      <th>Amount.Requested</th>\n",
        "      <th>Amount.Funded.By.Investors</th>\n",
        "      <th>Interest.Rate</th>\n",
        "      <th>Loan.Length</th>\n",
        "      <th>Loan.Purpose</th>\n",
        "      <th>Debt.To.Income.Ratio</th>\n",
        "      <th>State</th>\n",
        "      <th>Home.Ownership</th>\n",
        "      <th>Monthly.Income</th>\n",
        "      <th>FICO.Range</th>\n",
        "      <th>Open.CREDIT.Lines</th>\n",
        "      <th>Revolving.CREDIT.Balance</th>\n",
        "      <th>Inquiries.in.the.Last.6.Months</th>\n",
        "      <th>Employment.Length</th>\n",
        "    </tr>\n",
        "  </thead>\n",
        "  <tbody>\n",
        "    <tr>\n",
        "      <th>81174</th>\n",
        "      <td> 20000</td>\n",
        "      <td> 20000</td>\n",
        "      <td>  8.90%</td>\n",
        "      <td> 36 months</td>\n",
        "      <td> debt_consolidation</td>\n",
        "      <td> 14.90%</td>\n",
        "      <td> SC</td>\n",
        "      <td> MORTGAGE</td>\n",
        "      <td>  6541.67</td>\n",
        "      <td> 735-739</td>\n",
        "      <td> 14</td>\n",
        "      <td> 14272</td>\n",
        "      <td> 2</td>\n",
        "      <td> &lt; 1 year</td>\n",
        "    </tr>\n",
        "    <tr>\n",
        "      <th>99592</th>\n",
        "      <td> 19200</td>\n",
        "      <td> 19200</td>\n",
        "      <td> 12.12%</td>\n",
        "      <td> 36 months</td>\n",
        "      <td> debt_consolidation</td>\n",
        "      <td> 28.36%</td>\n",
        "      <td> TX</td>\n",
        "      <td> MORTGAGE</td>\n",
        "      <td>  4583.33</td>\n",
        "      <td> 715-719</td>\n",
        "      <td> 12</td>\n",
        "      <td> 11140</td>\n",
        "      <td> 1</td>\n",
        "      <td>  2 years</td>\n",
        "    </tr>\n",
        "    <tr>\n",
        "      <th>80059</th>\n",
        "      <td> 35000</td>\n",
        "      <td> 35000</td>\n",
        "      <td> 21.98%</td>\n",
        "      <td> 60 months</td>\n",
        "      <td> debt_consolidation</td>\n",
        "      <td> 23.81%</td>\n",
        "      <td> CA</td>\n",
        "      <td> MORTGAGE</td>\n",
        "      <td> 11500.00</td>\n",
        "      <td> 690-694</td>\n",
        "      <td> 14</td>\n",
        "      <td> 21977</td>\n",
        "      <td> 1</td>\n",
        "      <td>  2 years</td>\n",
        "    </tr>\n",
        "    <tr>\n",
        "      <th>15825</th>\n",
        "      <td> 10000</td>\n",
        "      <td>  9975</td>\n",
        "      <td>  9.99%</td>\n",
        "      <td> 36 months</td>\n",
        "      <td> debt_consolidation</td>\n",
        "      <td> 14.30%</td>\n",
        "      <td> KS</td>\n",
        "      <td> MORTGAGE</td>\n",
        "      <td>  3833.33</td>\n",
        "      <td> 695-699</td>\n",
        "      <td> 10</td>\n",
        "      <td>  9346</td>\n",
        "      <td> 0</td>\n",
        "      <td>  5 years</td>\n",
        "    </tr>\n",
        "    <tr>\n",
        "      <th>33182</th>\n",
        "      <td> 12000</td>\n",
        "      <td> 12000</td>\n",
        "      <td> 11.71%</td>\n",
        "      <td> 36 months</td>\n",
        "      <td>        credit_card</td>\n",
        "      <td> 18.78%</td>\n",
        "      <td> NJ</td>\n",
        "      <td>     RENT</td>\n",
        "      <td>  3195.00</td>\n",
        "      <td> 695-699</td>\n",
        "      <td> 11</td>\n",
        "      <td> 14469</td>\n",
        "      <td> 0</td>\n",
        "      <td>  9 years</td>\n",
        "    </tr>\n",
        "  </tbody>\n",
        "</table>\n",
        "</div>"
       ],
       "metadata": {},
       "output_type": "pyout",
       "prompt_number": 8,
       "text": [
        "       Amount.Requested  Amount.Funded.By.Investors Interest.Rate Loan.Length  \\\n",
        "81174             20000                       20000         8.90%   36 months   \n",
        "99592             19200                       19200        12.12%   36 months   \n",
        "80059             35000                       35000        21.98%   60 months   \n",
        "15825             10000                        9975         9.99%   36 months   \n",
        "33182             12000                       12000        11.71%   36 months   \n",
        "\n",
        "             Loan.Purpose Debt.To.Income.Ratio State Home.Ownership  \\\n",
        "81174  debt_consolidation               14.90%    SC       MORTGAGE   \n",
        "99592  debt_consolidation               28.36%    TX       MORTGAGE   \n",
        "80059  debt_consolidation               23.81%    CA       MORTGAGE   \n",
        "15825  debt_consolidation               14.30%    KS       MORTGAGE   \n",
        "33182         credit_card               18.78%    NJ           RENT   \n",
        "\n",
        "       Monthly.Income FICO.Range  Open.CREDIT.Lines  Revolving.CREDIT.Balance  \\\n",
        "81174         6541.67    735-739                 14                     14272   \n",
        "99592         4583.33    715-719                 12                     11140   \n",
        "80059        11500.00    690-694                 14                     21977   \n",
        "15825         3833.33    695-699                 10                      9346   \n",
        "33182         3195.00    695-699                 11                     14469   \n",
        "\n",
        "       Inquiries.in.the.Last.6.Months Employment.Length  \n",
        "81174                               2          < 1 year  \n",
        "99592                               1           2 years  \n",
        "80059                               1           2 years  \n",
        "15825                               0           5 years  \n",
        "33182                               0           9 years  "
       ]
      }
     ],
     "prompt_number": 8
    },
    {
     "cell_type": "code",
     "collapsed": false,
     "input": [
      "df.dtypes"
     ],
     "language": "python",
     "metadata": {},
     "outputs": [
      {
       "metadata": {},
       "output_type": "pyout",
       "prompt_number": 7,
       "text": [
        "Amount.Requested                    int64\n",
        "Amount.Funded.By.Investors        float64\n",
        "Interest.Rate                      object\n",
        "Loan.Length                        object\n",
        "Loan.Purpose                       object\n",
        "Debt.To.Income.Ratio               object\n",
        "State                              object\n",
        "Home.Ownership                     object\n",
        "Monthly.Income                    float64\n",
        "FICO.Range                         object\n",
        "Open.CREDIT.Lines                 float64\n",
        "Revolving.CREDIT.Balance          float64\n",
        "Inquiries.in.the.Last.6.Months    float64\n",
        "Employment.Length                  object\n",
        "dtype: object"
       ]
      }
     ],
     "prompt_number": 7
    },
    {
     "cell_type": "markdown",
     "metadata": {},
     "source": [
      "**We will find out that several columns are not regonized as numeric.**"
     ]
    },
    {
     "cell_type": "markdown",
     "metadata": {},
     "source": [
      "### Fix the Interest.Rate and Debt.To.Income.Ratio\n",
      "First check whether any of the rate doesn't contains %"
     ]
    },
    {
     "cell_type": "code",
     "collapsed": false,
     "input": [
      "len(df[ ( df['Interest.Rate'].str.contains('%') == False) ] ) , len(df[ ( df['Debt.To.Income.Ratio'].str.contains('%') == False) ] )"
     ],
     "language": "python",
     "metadata": {},
     "outputs": [
      {
       "metadata": {},
       "output_type": "pyout",
       "prompt_number": 10,
       "text": [
        "(0, 0)"
       ]
      }
     ],
     "prompt_number": 10
    },
    {
     "cell_type": "code",
     "collapsed": false,
     "input": [
      "remove_percent_converter = lambda x: float(x.replace('%', ''))"
     ],
     "language": "python",
     "metadata": {},
     "outputs": [],
     "prompt_number": 17
    },
    {
     "cell_type": "markdown",
     "metadata": {},
     "source": [
      "### Fix Loan.Length\n",
      "First check whether any of the loan doesn't contains \"months\"."
     ]
    },
    {
     "cell_type": "code",
     "collapsed": false,
     "input": [
      "len(df[df['Loan.Length'].str.contains('months') == False])"
     ],
     "language": "python",
     "metadata": {},
     "outputs": [
      {
       "metadata": {},
       "output_type": "pyout",
       "prompt_number": 20,
       "text": [
        "0"
       ]
      }
     ],
     "prompt_number": 20
    },
    {
     "cell_type": "code",
     "collapsed": false,
     "input": [
      "remove_month_converter = lambda x: float(x.replace('months', ''))"
     ],
     "language": "python",
     "metadata": {},
     "outputs": [],
     "prompt_number": 18
    },
    {
     "cell_type": "markdown",
     "metadata": {},
     "source": [
      "### Apply the converters"
     ]
    },
    {
     "cell_type": "code",
     "collapsed": false,
     "input": [
      "clean_df = pd.read_csv('https://cdn.rawgit.com/benedict-chan/pytest/master/datasets/loansData.csv'\n",
      "\t, converters={'Interest.Rate': remove_percent_converter\n",
      "\t,'Debt.To.Income.Ratio': remove_percent_converter\n",
      "\t, 'Loan.Length': remove_month_converter})"
     ],
     "language": "python",
     "metadata": {},
     "outputs": [],
     "prompt_number": 21
    },
    {
     "cell_type": "markdown",
     "metadata": {},
     "source": [
      "### Fix FICO.Score\n",
      "For FICO, we are trying to get the lower part of the Range as our preferred value.\n",
      "We will do it by:\n",
      "1. Creating a function to get the lower part of the Range\n",
      "2. Create a new column to store this value"
     ]
    },
    {
     "cell_type": "code",
     "collapsed": false,
     "input": [
      "fico_function = lambda x: float(x.split('-')[0])\n",
      "clean_df['FICO.Score'] = clean_df['FICO.Range'].map(fico_function)"
     ],
     "language": "python",
     "metadata": {},
     "outputs": [],
     "prompt_number": 15
    },
    {
     "cell_type": "code",
     "collapsed": false,
     "input": [],
     "language": "python",
     "metadata": {},
     "outputs": []
    }
   ],
   "metadata": {}
  }
 ]
}